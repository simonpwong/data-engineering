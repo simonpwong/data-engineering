{
 "cells": [
  {
   "cell_type": "code",
   "execution_count": 1,
   "id": "00bc6543",
   "metadata": {},
   "outputs": [],
   "source": [
    "import pyspark\n",
    "from pyspark.sql import SparkSession\n",
    "from pyspark.sql import types"
   ]
  },
  {
   "cell_type": "code",
   "execution_count": 2,
   "id": "cd4a0f3d",
   "metadata": {},
   "outputs": [
    {
     "name": "stderr",
     "output_type": "stream",
     "text": [
      "Setting default log level to \"WARN\".\n",
      "To adjust logging level use sc.setLogLevel(newLevel). For SparkR, use setLogLevel(newLevel).\n",
      "24/03/04 21:06:37 WARN NativeCodeLoader: Unable to load native-hadoop library for your platform... using builtin-java classes where applicable\n"
     ]
    }
   ],
   "source": [
    "spark = SparkSession.builder \\\n",
    "    .master(\"local[*]\") \\\n",
    "    .appName('test') \\\n",
    "    .getOrCreate()"
   ]
  },
  {
   "cell_type": "code",
   "execution_count": 3,
   "id": "eb3e4c36",
   "metadata": {},
   "outputs": [
    {
     "data": {
      "text/plain": [
       "'3.5.1'"
      ]
     },
     "execution_count": 3,
     "metadata": {},
     "output_type": "execute_result"
    }
   ],
   "source": [
    "# Question 1: Spark Version\n",
    "spark.version"
   ]
  },
  {
   "cell_type": "code",
   "execution_count": 4,
   "id": "0a3399a3",
   "metadata": {},
   "outputs": [],
   "source": [
    "fhv_schema = types.StructType([\n",
    "    types.StructField(\"dispatching_base_num\", types.StringType(), True),\n",
    "    types.StructField(\"pickup_datetime\", types.TimestampType(), True),\n",
    "    types.StructField(\"dropOff_datetime\", types.TimestampType(), True),\n",
    "    types.StructField(\"PUlocationID\", types.IntegerType(), True),\n",
    "    types.StructField(\"DOlocationID\", types.IntegerType(), True),    \n",
    "    types.StructField(\"SR_Flag\", types.StringType(), True),\n",
    "    types.StructField(\"Affiliated_base_number\", types.StringType(), True)\n",
    "])"
   ]
  },
  {
   "cell_type": "code",
   "execution_count": 5,
   "id": "68bc8b72",
   "metadata": {},
   "outputs": [
    {
     "name": "stderr",
     "output_type": "stream",
     "text": [
      "                                                                                \r"
     ]
    }
   ],
   "source": [
    "df = spark.read \\\n",
    "    .option(\"header\", \"true\") \\\n",
    "    .schema(fhv_schema) \\\n",
    "    .csv('fhv_tripdata_2019-10.csv.gz')\n",
    "\n",
    "df = df.repartition(6)\n",
    "\n",
    "df.write.parquet('data/pq/fhvhv/2019/10/', mode='overwrite')"
   ]
  },
  {
   "cell_type": "code",
   "execution_count": 20,
   "id": "778b28c1-5840-4d83-a663-a8f57ad1296f",
   "metadata": {},
   "outputs": [
    {
     "name": "stdout",
     "output_type": "stream",
     "text": [
      "total 39M\n",
      "-rw-r--r-- 1 swong swong    0 Mar  4 21:12 _SUCCESS\n",
      "-rw-r--r-- 1 swong swong 6.4M Mar  4 21:12 part-00000-21811eb7-6be5-4214-8949-807157529877-c000.snappy.parquet\n",
      "-rw-r--r-- 1 swong swong 6.4M Mar  4 21:12 part-00001-21811eb7-6be5-4214-8949-807157529877-c000.snappy.parquet\n",
      "-rw-r--r-- 1 swong swong 6.4M Mar  4 21:12 part-00002-21811eb7-6be5-4214-8949-807157529877-c000.snappy.parquet\n",
      "-rw-r--r-- 1 swong swong 6.4M Mar  4 21:12 part-00003-21811eb7-6be5-4214-8949-807157529877-c000.snappy.parquet\n",
      "-rw-r--r-- 1 swong swong 6.4M Mar  4 21:12 part-00004-21811eb7-6be5-4214-8949-807157529877-c000.snappy.parquet\n",
      "-rw-r--r-- 1 swong swong 6.4M Mar  4 21:12 part-00005-21811eb7-6be5-4214-8949-807157529877-c000.snappy.parquet\n"
     ]
    }
   ],
   "source": [
    "# Question 2: Average size for each parquet partition\n",
    "!ls -lh data/pq/fhvhv/2019/10"
   ]
  },
  {
   "cell_type": "markdown",
   "id": "48b01d2f",
   "metadata": {},
   "source": [
    "**Q3**: How many taxi trips were there on February 15?"
   ]
  },
  {
   "cell_type": "code",
   "execution_count": 26,
   "id": "f7489aea",
   "metadata": {},
   "outputs": [],
   "source": [
    "from pyspark.sql import functions as F"
   ]
  },
  {
   "cell_type": "code",
   "execution_count": 27,
   "id": "6c2500fd",
   "metadata": {},
   "outputs": [
    {
     "name": "stderr",
     "output_type": "stream",
     "text": [
      "                                                                                \r"
     ]
    },
    {
     "data": {
      "text/plain": [
       "62610"
      ]
     },
     "execution_count": 27,
     "metadata": {},
     "output_type": "execute_result"
    }
   ],
   "source": [
    "df \\\n",
    "    .withColumn('pickup_date', F.to_date(df.pickup_datetime)) \\\n",
    "    .filter(\"pickup_date = '2019-10-15'\") \\\n",
    "    .count()"
   ]
  },
  {
   "cell_type": "code",
   "execution_count": 28,
   "id": "dd7ae60d",
   "metadata": {},
   "outputs": [
    {
     "name": "stderr",
     "output_type": "stream",
     "text": [
      "/home/swong/spark/spark-3.5.1-bin-hadoop3/python/pyspark/sql/dataframe.py:329: FutureWarning: Deprecated in 2.0, use createOrReplaceTempView instead.\n",
      "  warnings.warn(\"Deprecated in 2.0, use createOrReplaceTempView instead.\", FutureWarning)\n"
     ]
    }
   ],
   "source": [
    "df.registerTempTable('fhvhv_2019_10')"
   ]
  },
  {
   "cell_type": "code",
   "execution_count": 52,
   "id": "6d47c147",
   "metadata": {},
   "outputs": [
    {
     "name": "stderr",
     "output_type": "stream",
     "text": [
      "[Stage 72:>                                                         (0 + 1) / 1]\r"
     ]
    },
    {
     "name": "stdout",
     "output_type": "stream",
     "text": [
      "+--------+\n",
      "|count(1)|\n",
      "+--------+\n",
      "|   62610|\n",
      "+--------+\n",
      "\n"
     ]
    },
    {
     "name": "stderr",
     "output_type": "stream",
     "text": [
      "                                                                                \r"
     ]
    }
   ],
   "source": [
    "# Question 3: Row Count on October 15th, 2019\n",
    "spark.sql(\"\"\"\n",
    "SELECT\n",
    "    COUNT(*)\n",
    "FROM \n",
    "    fhvhv_2019_10\n",
    "WHERE\n",
    "    to_date(pickup_datetime) = '2019-10-15';\n",
    "\"\"\").show()"
   ]
  },
  {
   "cell_type": "code",
   "execution_count": 30,
   "id": "7befe422",
   "metadata": {},
   "outputs": [
    {
     "data": {
      "text/plain": [
       "['dispatching_base_num',\n",
       " 'pickup_datetime',\n",
       " 'dropOff_datetime',\n",
       " 'PUlocationID',\n",
       " 'DOlocationID',\n",
       " 'SR_Flag',\n",
       " 'Affiliated_base_number']"
      ]
     },
     "execution_count": 30,
     "metadata": {},
     "output_type": "execute_result"
    }
   ],
   "source": [
    "df.columns"
   ]
  },
  {
   "cell_type": "code",
   "execution_count": 38,
   "id": "d53ca2bd-918c-43c7-acd9-042679047f5a",
   "metadata": {},
   "outputs": [
    {
     "name": "stderr",
     "output_type": "stream",
     "text": [
      "[Stage 43:>                                                         (0 + 1) / 1]\r"
     ]
    },
    {
     "name": "stdout",
     "output_type": "stream",
     "text": [
      "+-----------+-----------------+\n",
      "|pickup_date|     length_hours|\n",
      "+-----------+-----------------+\n",
      "| 2019-10-11|         631152.5|\n",
      "| 2019-10-28|         631152.5|\n",
      "| 2019-10-31|87672.44083333333|\n",
      "+-----------+-----------------+\n",
      "\n"
     ]
    },
    {
     "name": "stderr",
     "output_type": "stream",
     "text": [
      "                                                                                \r"
     ]
    }
   ],
   "source": [
    "# Question 4: Longest trip in October\n",
    "spark.sql(\"\"\"\n",
    "SELECT\n",
    "    to_date(pickup_datetime) as pickup_date,\n",
    "    (unix_timestamp(dropOff_datetime) - unix_timestamp(pickup_datetime))/(60*60) as length_hours\n",
    "FROM fhvhv_2019_10\n",
    "ORDER BY length_hours DESC LIMIT 3\n",
    "\"\"\").show()"
   ]
  },
  {
   "cell_type": "code",
   "execution_count": 41,
   "id": "74b7f664",
   "metadata": {},
   "outputs": [],
   "source": [
    "df_zones = spark.read.parquet('zones')"
   ]
  },
  {
   "cell_type": "code",
   "execution_count": 42,
   "id": "81642d3b",
   "metadata": {},
   "outputs": [
    {
     "data": {
      "text/plain": [
       "['LocationID', 'Borough', 'Zone', 'service_zone']"
      ]
     },
     "execution_count": 42,
     "metadata": {},
     "output_type": "execute_result"
    }
   ],
   "source": [
    "df_zones.columns"
   ]
  },
  {
   "cell_type": "code",
   "execution_count": 43,
   "id": "4f460dda",
   "metadata": {},
   "outputs": [
    {
     "data": {
      "text/plain": [
       "['dispatching_base_num',\n",
       " 'pickup_datetime',\n",
       " 'dropOff_datetime',\n",
       " 'PUlocationID',\n",
       " 'DOlocationID',\n",
       " 'SR_Flag',\n",
       " 'Affiliated_base_number']"
      ]
     },
     "execution_count": 43,
     "metadata": {},
     "output_type": "execute_result"
    }
   ],
   "source": [
    "df.columns"
   ]
  },
  {
   "cell_type": "code",
   "execution_count": 44,
   "id": "ad8f0101",
   "metadata": {},
   "outputs": [],
   "source": [
    "df_zones.registerTempTable('zones')"
   ]
  },
  {
   "cell_type": "code",
   "execution_count": 46,
   "id": "2fb84b0a-daa8-40f3-8078-cb4a72b1e6bb",
   "metadata": {},
   "outputs": [
    {
     "name": "stdout",
     "output_type": "stream",
     "text": [
      "+----------+-------------+--------------------+------------+\n",
      "|LocationID|      Borough|                Zone|service_zone|\n",
      "+----------+-------------+--------------------+------------+\n",
      "|         1|          EWR|      Newark Airport|         EWR|\n",
      "|         2|       Queens|         Jamaica Bay|   Boro Zone|\n",
      "|         3|        Bronx|Allerton/Pelham G...|   Boro Zone|\n",
      "|         4|    Manhattan|       Alphabet City| Yellow Zone|\n",
      "|         5|Staten Island|       Arden Heights|   Boro Zone|\n",
      "|         6|Staten Island|Arrochar/Fort Wad...|   Boro Zone|\n",
      "|         7|       Queens|             Astoria|   Boro Zone|\n",
      "|         8|       Queens|        Astoria Park|   Boro Zone|\n",
      "|         9|       Queens|          Auburndale|   Boro Zone|\n",
      "|        10|       Queens|        Baisley Park|   Boro Zone|\n",
      "|        11|     Brooklyn|          Bath Beach|   Boro Zone|\n",
      "|        12|    Manhattan|        Battery Park| Yellow Zone|\n",
      "|        13|    Manhattan|   Battery Park City| Yellow Zone|\n",
      "|        14|     Brooklyn|           Bay Ridge|   Boro Zone|\n",
      "|        15|       Queens|Bay Terrace/Fort ...|   Boro Zone|\n",
      "|        16|       Queens|             Bayside|   Boro Zone|\n",
      "|        17|     Brooklyn|             Bedford|   Boro Zone|\n",
      "|        18|        Bronx|        Bedford Park|   Boro Zone|\n",
      "|        19|       Queens|           Bellerose|   Boro Zone|\n",
      "|        20|        Bronx|             Belmont|   Boro Zone|\n",
      "+----------+-------------+--------------------+------------+\n",
      "only showing top 20 rows\n",
      "\n"
     ]
    }
   ],
   "source": [
    "df_zones.show()"
   ]
  },
  {
   "cell_type": "code",
   "execution_count": 47,
   "id": "6f738414",
   "metadata": {},
   "outputs": [],
   "source": [
    "df_result = df.join(df_zones, df.PUlocationID == df_zones.LocationID)"
   ]
  },
  {
   "cell_type": "code",
   "execution_count": 48,
   "id": "e4b754d1",
   "metadata": {},
   "outputs": [
    {
     "name": "stderr",
     "output_type": "stream",
     "text": [
      "[Stage 61:>                                                         (0 + 1) / 1]\r"
     ]
    },
    {
     "name": "stdout",
     "output_type": "stream",
     "text": [
      "+--------------------+-------------------+-------------------+------------+------------+-------+----------------------+----------+---------+----------------+------------+\n",
      "|dispatching_base_num|    pickup_datetime|   dropOff_datetime|PUlocationID|DOlocationID|SR_Flag|Affiliated_base_number|LocationID|  Borough|            Zone|service_zone|\n",
      "+--------------------+-------------------+-------------------+------------+------------+-------+----------------------+----------+---------+----------------+------------+\n",
      "|              B02653|2019-10-08 13:53:21|2019-10-08 13:56:24|         264|         247|   NULL|                B02653|       264|  Unknown|              NV|         N/A|\n",
      "|              B00837|2019-10-12 08:20:51|2019-10-12 08:32:35|         264|         264|   NULL|                B00837|       264|  Unknown|              NV|         N/A|\n",
      "|              B01315|2019-10-05 15:13:04|2019-10-05 15:19:48|         264|          74|   NULL|                B01315|       264|  Unknown|              NV|         N/A|\n",
      "|              B00789|2019-10-23 00:56:36|2019-10-23 01:33:24|         264|         264|   NULL|                B00789|       264|  Unknown|              NV|         N/A|\n",
      "|              B00937|2019-10-18 11:03:47|2019-10-18 11:22:46|         264|          75|   NULL|                B00937|       264|  Unknown|              NV|         N/A|\n",
      "|              B03060|2019-10-18 16:31:09|2019-10-18 16:35:05|         264|          22|   NULL|                B02825|       264|  Unknown|              NV|         N/A|\n",
      "|              B03033|2019-10-20 02:59:38|2019-10-20 03:04:52|         264|          36|   NULL|                B03033|       264|  Unknown|              NV|         N/A|\n",
      "|              B01231|2019-10-11 13:19:24|2019-10-11 14:04:19|         264|          17|   NULL|                B02872|       264|  Unknown|              NV|         N/A|\n",
      "|              B02688|2019-10-02 10:59:00|2019-10-02 11:34:46|         264|         107|   NULL|                B02688|       264|  Unknown|              NV|         N/A|\n",
      "|              B01029|2019-10-10 14:45:00|2019-10-10 15:47:00|         264|         264|   NULL|                B01029|       264|  Unknown|              NV|         N/A|\n",
      "|              B00531|2019-10-19 16:31:08|2019-10-19 16:42:32|          22|          21|   NULL|                B00531|        22| Brooklyn|Bensonhurst West|   Boro Zone|\n",
      "|              B02795|2019-10-13 14:09:00|2019-10-13 16:02:57|         222|          47|   NULL|                B02795|       222| Brooklyn|   Starrett City|   Boro Zone|\n",
      "|              B01194|2019-10-19 23:05:22|2019-10-19 23:15:58|         264|          36|   NULL|                B01194|       264|  Unknown|              NV|         N/A|\n",
      "|              B01367|2019-10-15 07:26:39|2019-10-15 09:02:33|         137|         265|   NULL|                B01367|       137|Manhattan|        Kips Bay| Yellow Zone|\n",
      "|              B02138|2019-10-06 14:02:19|2019-10-06 14:14:22|         264|          14|   NULL|                B02138|       264|  Unknown|              NV|         N/A|\n",
      "|              B00111|2019-10-10 21:55:00|2019-10-10 22:34:46|         264|         230|   NULL|                B00111|       264|  Unknown|              NV|         N/A|\n",
      "|              B02472|2019-10-16 14:12:36|2019-10-16 14:35:00|         264|         157|   NULL|                B02472|       264|  Unknown|              NV|         N/A|\n",
      "|              B01239|2019-10-13 07:53:40|2019-10-13 07:57:16|         264|         254|   NULL|                B02872|       264|  Unknown|              NV|         N/A|\n",
      "|              B03016|2019-10-07 13:50:21|2019-10-07 14:01:25|         264|         265|   NULL|                B02871|       264|  Unknown|              NV|         N/A|\n",
      "|              B02111|2019-10-08 14:58:52|2019-10-08 15:40:41|          98|          79|   NULL|                B02111|        98|   Queens|   Fresh Meadows|   Boro Zone|\n",
      "+--------------------+-------------------+-------------------+------------+------------+-------+----------------------+----------+---------+----------------+------------+\n",
      "only showing top 20 rows\n",
      "\n"
     ]
    },
    {
     "name": "stderr",
     "output_type": "stream",
     "text": [
      "                                                                                \r"
     ]
    }
   ],
   "source": [
    "df_result.show()"
   ]
  },
  {
   "cell_type": "code",
   "execution_count": 50,
   "id": "f4843bfd-2516-424a-90cf-f805d2ba8574",
   "metadata": {},
   "outputs": [],
   "source": [
    "df_result.registerTempTable('fhv_trips_zones')"
   ]
  },
  {
   "cell_type": "code",
   "execution_count": 51,
   "id": "2dcb01ff-5e6b-420c-ba39-b2d994f70cb7",
   "metadata": {},
   "outputs": [
    {
     "name": "stderr",
     "output_type": "stream",
     "text": [
      "[Stage 68:======================================>                   (4 + 2) / 6]\r"
     ]
    },
    {
     "name": "stdout",
     "output_type": "stream",
     "text": [
      "+--------------------+---------+\n",
      "|         pickup_zone|frequency|\n",
      "+--------------------+---------+\n",
      "|         Jamaica Bay|        1|\n",
      "|Governor's Island...|        2|\n",
      "| Green-Wood Cemetery|        5|\n",
      "|       Broad Channel|        8|\n",
      "|     Highbridge Park|       14|\n",
      "|        Battery Park|       15|\n",
      "|Saint Michaels Ce...|       23|\n",
      "|Breezy Point/Fort...|       25|\n",
      "|Marine Park/Floyd...|       26|\n",
      "|        Astoria Park|       29|\n",
      "|    Inwood Hill Park|       39|\n",
      "|       Willets Point|       47|\n",
      "|Forest Park/Highl...|       53|\n",
      "|  Brooklyn Navy Yard|       57|\n",
      "|        Crotona Park|       62|\n",
      "|        Country Club|       77|\n",
      "|     Freshkills Park|       89|\n",
      "|       Prospect Park|       98|\n",
      "|     Columbia Street|      105|\n",
      "|  South Williamsburg|      110|\n",
      "+--------------------+---------+\n",
      "only showing top 20 rows\n",
      "\n"
     ]
    },
    {
     "name": "stderr",
     "output_type": "stream",
     "text": [
      "                                                                                \r"
     ]
    }
   ],
   "source": [
    "# Question 6. Least frequent pickup location zone\n",
    "spark.sql(\"\"\"        \n",
    "SELECT\n",
    "    zone as pickup_zone,\n",
    "    count(*) as frequency\n",
    "FROM fhv_trips_zones\n",
    "GROUP BY 1\n",
    "ORDER BY 2\n",
    "\"\"\").show()"
   ]
  },
  {
   "cell_type": "code",
   "execution_count": 53,
   "id": "5949c99a-eab3-4687-8f08-dcaafb698abf",
   "metadata": {},
   "outputs": [],
   "source": [
    "spark.stop()"
   ]
  },
  {
   "cell_type": "code",
   "execution_count": null,
   "id": "069ab912-f155-43a4-b94e-7c86e5508f5f",
   "metadata": {},
   "outputs": [],
   "source": []
  }
 ],
 "metadata": {
  "kernelspec": {
   "display_name": "Python 3 (ipykernel)",
   "language": "python",
   "name": "python3"
  },
  "language_info": {
   "codemirror_mode": {
    "name": "ipython",
    "version": 3
   },
   "file_extension": ".py",
   "mimetype": "text/x-python",
   "name": "python",
   "nbconvert_exporter": "python",
   "pygments_lexer": "ipython3",
   "version": "3.11.5"
  }
 },
 "nbformat": 4,
 "nbformat_minor": 5
}
